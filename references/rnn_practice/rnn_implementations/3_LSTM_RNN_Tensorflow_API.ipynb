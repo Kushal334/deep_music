{
 "cells": [
  {
   "cell_type": "markdown",
   "metadata": {},
   "source": [
    "# Basic LSTM-RNN using the TensorFlow RNN API\n",
    "\n",
    "In a next step we modify our model to use the functionalities provided by TensorFlow. "
   ]
  },
  {
   "cell_type": "code",
   "execution_count": 1,
   "metadata": {
    "collapsed": false
   },
   "outputs": [],
   "source": [
    "% matplotlib inline\n",
    "import tensorflow as tf\n",
    "import numpy as np\n",
    "import matplotlib.pyplot as plt\n",
    "import seaborn as sns"
   ]
  },
  {
   "cell_type": "code",
   "execution_count": 2,
   "metadata": {
    "collapsed": false
   },
   "outputs": [],
   "source": [
    "# Global configuration parameters\n",
    "n_epochs = 20\n",
    "total_series_length = 50000\n",
    "truncated_backprop_steps = 15\n",
    "state_size = 4 \n",
    "n_classes = 2\n",
    "echo_step = 3 # Number of steps the input is shifted to the right\n",
    "batch_size = 5\n",
    "eta = 0.01 # Learning rate\n",
    "n_batches = total_series_length // batch_size // truncated_backprop_steps\n",
    "n_hidden = 20"
   ]
  },
  {
   "cell_type": "markdown",
   "metadata": {},
   "source": [
    "## Input data"
   ]
  },
  {
   "cell_type": "code",
   "execution_count": 3,
   "metadata": {
    "collapsed": true
   },
   "outputs": [],
   "source": [
    "def generateData():\n",
    "    \"\"\"\n",
    "    Generates training data. The input data is simply a vector of random\n",
    "    numbers with n_classes classes. The target output is the input shifted \n",
    "    by \"echo_steps\" steps to the right.\n",
    "    \n",
    "    Returns:\n",
    "        x: numpy array of shape (batch_size,-1) filled with random values\n",
    "        in the range (n_classes)\n",
    "        \n",
    "        y: numpy array of shape (batch_size, -1), x shifted \"echo_step\" to \n",
    "        the right\n",
    "    \"\"\"\n",
    "\n",
    "    x = np.array(np.random.choice(n_classes, total_series_length))\n",
    "    y = np.roll(x, echo_step)\n",
    "    y[0:echo_step] = 0\n",
    "\n",
    "    x = x.reshape((batch_size, -1))\n",
    "    y = y.reshape((batch_size, -1))\n",
    "\n",
    "    return(x, y)"
   ]
  },
  {
   "cell_type": "markdown",
   "metadata": {},
   "source": [
    "## Network architecture and forward pass\n",
    "\n",
    "When using TensorFlow's RNN API we no longer need to define the weight matrices and bias vectors manually. Also, the code of the forward pass can be simplified.\n",
    "\n",
    "When using the static RNN function, the input data needs to be reshaped into a list of \"truncated_backprop_steps\" tensors of shape (batch_size, input_size). In our case, the input size is simply 1."
   ]
  },
  {
   "cell_type": "code",
   "execution_count": 4,
   "metadata": {
    "collapsed": false
   },
   "outputs": [],
   "source": [
    "X_placeholder = tf.placeholder(tf.float32, shape=[batch_size, truncated_backprop_steps])\n",
    "y_placeholder = tf.placeholder(tf.int32, shape=[batch_size, truncated_backprop_steps])\n",
    "\n",
    "input_series = tf.split(X_placeholder, truncated_backprop_steps,1)\n",
    "label_series = tf.unstack(y_placeholder, axis=1)\n",
    "\n",
    "cell_state = tf.placeholder(tf.float32, [batch_size, n_hidden])\n",
    "hidden_state = tf.placeholder(tf.float32, [batch_size, n_hidden])\n",
    "init_state = tf.contrib.rnn.LSTMStateTuple(cell_state, hidden_state)\n",
    "\n",
    "#init_state = tf.zeros([batch_size, state_size])"
   ]
  },
  {
   "cell_type": "code",
   "execution_count": 5,
   "metadata": {
    "collapsed": false
   },
   "outputs": [],
   "source": [
    "# Forward pass using LSTM cell\n",
    "# For each initialized LSTM cell we need to specify how many hidden\n",
    "# units the cell should have.\n",
    "lstm_cell = tf.contrib.rnn.BasicLSTMCell(n_hidden)\n",
    "#init_state = tf.placeholder(tf.float32, shape=[batch_size])\n",
    "\n",
    "# Create a recurrent neural network specified by \"cell\", i.e. it unrolls the\n",
    "# network.\n",
    "# Returns a list of all previous RNN states and the final state\n",
    "# final_state is an LSTMStateTuple that contains both the final hidden \n",
    "# and the cell state.\n",
    "outputs, final_state = tf.contrib.rnn.static_rnn(lstm_cell, input_series, initial_state=init_state)"
   ]
  },
  {
   "cell_type": "code",
   "execution_count": null,
   "metadata": {
    "collapsed": false
   },
   "outputs": [],
   "source": []
  },
  {
   "cell_type": "markdown",
   "metadata": {},
   "source": [
    "## Network output and loss function\n",
    "\n",
    "The predictions of the RNN and the loss are computed in the same way as before."
   ]
  },
  {
   "cell_type": "code",
   "execution_count": 6,
   "metadata": {
    "collapsed": false
   },
   "outputs": [],
   "source": [
    "V = tf.Variable(np.random.randn(n_hidden, n_classes), dtype=tf.float32)\n",
    "c = tf.Variable(np.zeros((1,n_classes)), dtype=tf.float32)\n",
    "\n",
    "logits = [tf.matmul(state,V)+c for state in outputs]\n",
    "predictions = [tf.nn.softmax(l) for l in logits]\n",
    "\n",
    "# Compute the loss\n",
    "loss = [tf.nn.sparse_softmax_cross_entropy_with_logits(labels=label, logits=logit)\n",
    "       for label, logit in zip(label_series, logits)]\n",
    "total_loss = tf.reduce_mean(loss)\n",
    "\n",
    "optimizer = tf.train.AdamOptimizer(learning_rate=eta).minimize(total_loss)"
   ]
  },
  {
   "cell_type": "markdown",
   "metadata": {},
   "source": [
    "## Training"
   ]
  },
  {
   "cell_type": "code",
   "execution_count": 9,
   "metadata": {
    "collapsed": false
   },
   "outputs": [
    {
     "name": "stdout",
     "output_type": "stream",
     "text": [
      "\n",
      "Epoch:  0\n",
      "Step:  0 Loss:  0.69496\n",
      "Step:  100 Loss:  0.20798\n",
      "Step:  200 Loss:  0.00105089\n",
      "Step:  300 Loss:  0.000509819\n",
      "Step:  400 Loss:  0.000308886\n",
      "Step:  500 Loss:  0.000256951\n",
      "Step:  600 Loss:  0.000142953\n",
      "\n",
      "Epoch:  1\n",
      "Step:  0 Loss:  0.19102\n",
      "Step:  100 Loss:  0.000132483\n",
      "Step:  200 Loss:  8.72539e-05\n",
      "Step:  300 Loss:  7.86457e-05\n",
      "Step:  400 Loss:  7.99827e-05\n",
      "Step:  500 Loss:  5.50216e-05\n",
      "Step:  600 Loss:  4.83495e-05\n",
      "\n",
      "Epoch:  2\n",
      "Step:  0 Loss:  0.221706\n",
      "Step:  100 Loss:  4.76454e-05\n",
      "Step:  200 Loss:  4.05935e-05\n",
      "Step:  300 Loss:  3.31584e-05\n",
      "Step:  400 Loss:  3.21603e-05\n",
      "Step:  500 Loss:  2.88162e-05\n",
      "Step:  600 Loss:  2.09725e-05\n",
      "\n",
      "Epoch:  3\n",
      "Step:  0 Loss:  0.178568\n",
      "Step:  100 Loss:  2.80277e-05\n",
      "Step:  200 Loss:  2.12633e-05\n",
      "Step:  300 Loss:  1.83769e-05\n",
      "Step:  400 Loss:  1.49487e-05\n",
      "Step:  500 Loss:  1.26662e-05\n",
      "Step:  600 Loss:  1.23229e-05\n",
      "\n",
      "Epoch:  4\n",
      "Step:  0 Loss:  0.22485\n",
      "Step:  100 Loss:  2.07006e-05\n",
      "Step:  200 Loss:  2.02743e-05\n",
      "Step:  300 Loss:  1.47277e-05\n",
      "Step:  400 Loss:  1.23181e-05\n",
      "Step:  500 Loss:  9.94355e-06\n",
      "Step:  600 Loss:  9.82591e-06\n",
      "\n",
      "Epoch:  5\n",
      "Step:  0 Loss:  0.361964\n",
      "Step:  100 Loss:  0.000820926\n",
      "Step:  200 Loss:  0.000520366\n",
      "Step:  300 Loss:  0.000286211\n",
      "Step:  400 Loss:  0.000233562\n",
      "Step:  500 Loss:  0.000146373\n",
      "Step:  600 Loss:  0.000117351\n",
      "\n",
      "Epoch:  6\n",
      "Step:  0 Loss:  0.187732\n",
      "Step:  100 Loss:  0.000128843\n",
      "Step:  200 Loss:  0.000104288\n",
      "Step:  300 Loss:  6.35399e-05\n",
      "Step:  400 Loss:  6.44138e-05\n",
      "Step:  500 Loss:  6.5035e-05\n",
      "Step:  600 Loss:  5.1647e-05\n",
      "\n",
      "Epoch:  7\n",
      "Step:  0 Loss:  0.173594\n",
      "Step:  100 Loss:  5.50462e-05\n",
      "Step:  200 Loss:  3.75988e-05\n",
      "Step:  300 Loss:  3.36985e-05\n",
      "Step:  400 Loss:  3.1216e-05\n",
      "Step:  500 Loss:  3.01542e-05\n",
      "Step:  600 Loss:  2.82805e-05\n",
      "\n",
      "Epoch:  8\n",
      "Step:  0 Loss:  0.243525\n",
      "Step:  100 Loss:  3.65542e-05\n",
      "Step:  200 Loss:  2.78429e-05\n",
      "Step:  300 Loss:  2.17195e-05\n",
      "Step:  400 Loss:  2.17767e-05\n",
      "Step:  500 Loss:  1.98647e-05\n",
      "Step:  600 Loss:  2.16113e-05\n",
      "\n",
      "Epoch:  9\n",
      "Step:  0 Loss:  0.279559\n",
      "Step:  100 Loss:  0.000256273\n",
      "Step:  200 Loss:  0.00012055\n",
      "Step:  300 Loss:  8.01586e-05\n",
      "Step:  400 Loss:  4.54978e-05\n",
      "Step:  500 Loss:  4.16264e-05\n",
      "Step:  600 Loss:  3.48712e-05\n",
      "\n",
      "Epoch:  10\n",
      "Step:  0 Loss:  0.179238\n",
      "Step:  100 Loss:  3.68667e-05\n",
      "Step:  200 Loss:  2.83706e-05\n",
      "Step:  300 Loss:  2.55494e-05\n",
      "Step:  400 Loss:  2.02539e-05\n",
      "Step:  500 Loss:  1.45876e-05\n",
      "Step:  600 Loss:  1.4165e-05\n",
      "\n",
      "Epoch:  11\n",
      "Step:  0 Loss:  0.206985\n",
      "Step:  100 Loss:  2.34387e-05\n",
      "Step:  200 Loss:  1.68979e-05\n",
      "Step:  300 Loss:  1.21544e-05\n",
      "Step:  400 Loss:  1.07446e-05\n",
      "Step:  500 Loss:  9.76378e-06\n",
      "Step:  600 Loss:  7.60072e-06\n",
      "\n",
      "Epoch:  12\n",
      "Step:  0 Loss:  0.220615\n",
      "Step:  100 Loss:  2.194e-05\n",
      "Step:  200 Loss:  1.46115e-05\n",
      "Step:  300 Loss:  9.2696e-06\n",
      "Step:  400 Loss:  7.84547e-06\n",
      "Step:  500 Loss:  6.24016e-06\n",
      "Step:  600 Loss:  5.32465e-06\n",
      "\n",
      "Epoch:  13\n",
      "Step:  0 Loss:  0.138962\n",
      "Step:  100 Loss:  6.71851e-06\n",
      "Step:  200 Loss:  5.25785e-06\n",
      "Step:  300 Loss:  3.8083e-06\n",
      "Step:  400 Loss:  4.63323e-06\n",
      "Step:  500 Loss:  5.85549e-06\n",
      "Step:  600 Loss:  3.94501e-06\n",
      "\n",
      "Epoch:  14\n",
      "Step:  0 Loss:  0.467975\n",
      "Step:  100 Loss:  8.33196e-05\n",
      "Step:  200 Loss:  3.84515e-05\n",
      "Step:  300 Loss:  1.79112e-05\n",
      "Step:  400 Loss:  2.23217e-05\n",
      "Step:  500 Loss:  1.21481e-05\n",
      "Step:  600 Loss:  1.65157e-05\n",
      "\n",
      "Epoch:  15\n",
      "Step:  0 Loss:  0.388804\n",
      "Step:  100 Loss:  1.42154e-05\n",
      "Step:  200 Loss:  1.34989e-05\n",
      "Step:  300 Loss:  4.90821e-06\n",
      "Step:  400 Loss:  6.46424e-06\n",
      "Step:  500 Loss:  5.60438e-06\n",
      "Step:  600 Loss:  4.21362e-06\n",
      "\n",
      "Epoch:  16\n",
      "Step:  0 Loss:  0.193483\n",
      "Step:  100 Loss:  1.36561e-05\n",
      "Step:  200 Loss:  9.21549e-06\n",
      "Step:  300 Loss:  5.98108e-06\n",
      "Step:  400 Loss:  3.03108e-06\n",
      "Step:  500 Loss:  5.74266e-06\n",
      "Step:  600 Loss:  4.34237e-06\n",
      "\n",
      "Epoch:  17\n",
      "Step:  0 Loss:  0.275029\n",
      "Step:  100 Loss:  1.44075e-05\n",
      "Step:  200 Loss:  1.29567e-05\n",
      "Step:  300 Loss:  9.51409e-06\n",
      "Step:  400 Loss:  6.05098e-06\n",
      "Step:  500 Loss:  3.98315e-06\n",
      "Step:  600 Loss:  4.61415e-06\n",
      "\n",
      "Epoch:  18\n",
      "Step:  0 Loss:  0.218398\n",
      "Step:  100 Loss:  9.03431e-06\n",
      "Step:  200 Loss:  9.25525e-06\n",
      "Step:  300 Loss:  4.3376e-06\n",
      "Step:  400 Loss:  3.43003e-06\n",
      "Step:  500 Loss:  4.90821e-06\n",
      "Step:  600 Loss:  4.01654e-06\n",
      "\n",
      "Epoch:  19\n",
      "Step:  0 Loss:  0.156076\n",
      "Step:  100 Loss:  7.71037e-06\n",
      "Step:  200 Loss:  4.08327e-06\n",
      "Step:  300 Loss:  3.00883e-06\n",
      "Step:  400 Loss:  4.2168e-06\n",
      "Step:  500 Loss:  2.9373e-06\n",
      "Step:  600 Loss:  3.09625e-06\n"
     ]
    }
   ],
   "source": [
    "with tf.Session() as sess:\n",
    "    init = tf.global_variables_initializer()\n",
    "    sess.run(init)\n",
    "    \n",
    "    training_losses = []\n",
    "    \n",
    "    for epoch in range(n_epochs):\n",
    "        print(\"\")\n",
    "        print(\"Epoch: \", epoch)\n",
    "        \n",
    "        X_data, y_data = generateData()\n",
    "        _current_cell_state = np.zeros((batch_size, n_hidden))\n",
    "        _current_hidden_state = np.zeros((batch_size, n_hidden))\n",
    "        \n",
    "        for batch in range(n_batches):\n",
    "        \n",
    "            start_idx = batch*truncated_backprop_steps\n",
    "            end_idx = start_idx+truncated_backprop_steps\n",
    "            \n",
    "            batch_x = X_data[:, start_idx:end_idx]\n",
    "            batch_y = y_data[:, start_idx:end_idx]\n",
    "\n",
    "            _total_loss, _optimizer, _final_state = sess.run(\n",
    "                [total_loss, optimizer, final_state],\n",
    "                feed_dict={\n",
    "                    X_placeholder: batch_x,\n",
    "                    y_placeholder:batch_y,\n",
    "                    cell_state:_current_cell_state,\n",
    "                    hidden_state:_current_hidden_state}\n",
    "                    )\n",
    "            \n",
    "            _current_cell_state, _current_hidden_state = _final_state\n",
    "            \n",
    "            training_losses.append(_total_loss)\n",
    "            \n",
    "            if batch%100 == 0:\n",
    "                print(\"Step: \", batch, \"Loss: \", _total_loss)"
   ]
  },
  {
   "cell_type": "code",
   "execution_count": 10,
   "metadata": {
    "collapsed": false
   },
   "outputs": [
    {
     "data": {
      "image/png": "[encoded data removed]",
      "text/plain": [
       "<matplotlib.figure.Figure at 0x7f15f7b4ed68>"
      ]
     },
     "metadata": {},
     "output_type": "display_data"
    }
   ],
   "source": [
    "plt.figure(figsize=(10,8));\n",
    "plt.plot(training_losses);\n",
    "plt.xlabel('Number of training iterations');\n",
    "plt.ylabel('Error');"
   ]
  },
  {
   "cell_type": "code",
   "execution_count": null,
   "metadata": {
    "collapsed": true
   },
   "outputs": [],
   "source": []
  }
 ],
 "metadata": {
  "kernelspec": {
   "display_name": "Python [conda root]",
   "language": "python",
   "name": "conda-root-py"
  },
  "language_info": {
   "codemirror_mode": {
    "name": "ipython",
    "version": 3
   },
   "file_extension": ".py",
   "mimetype": "text/x-python",
   "name": "python",
   "nbconvert_exporter": "python",
   "pygments_lexer": "ipython3",
   "version": "3.5.2"
  }
 },
 "nbformat": 4,
 "nbformat_minor": 2
}
