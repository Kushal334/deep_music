{
 "cells": [
  {
   "cell_type": "markdown",
   "metadata": {},
   "source": [
    "# Basic RNN using the TensorFlow RNN API\n",
    "\n",
    "In a next step we modify our model to use the functionalities provided by TensorFlow. \n"
   ]
  },
  {
   "cell_type": "code",
   "execution_count": 1,
   "metadata": {
    "collapsed": false
   },
   "outputs": [],
   "source": [
    "% matplotlib inline\n",
    "import tensorflow as tf\n",
    "import numpy as np\n",
    "import matplotlib.pyplot as plt\n",
    "import seaborn as sns"
   ]
  },
  {
   "cell_type": "code",
   "execution_count": 2,
   "metadata": {
    "collapsed": false
   },
   "outputs": [],
   "source": [
    "# Global configuration parameters\n",
    "n_epochs = 20\n",
    "total_series_length = 50000\n",
    "truncated_backprop_steps = 15\n",
    "state_size = 4 \n",
    "n_classes = 2\n",
    "echo_step = 3 # Number of steps the input is shifted to the right\n",
    "batch_size = 5\n",
    "eta = 0.01 # Learning rate\n",
    "n_batches = total_series_length // batch_size // truncated_backprop_steps"
   ]
  },
  {
   "cell_type": "markdown",
   "metadata": {},
   "source": [
    "## Input data"
   ]
  },
  {
   "cell_type": "code",
   "execution_count": 3,
   "metadata": {
    "collapsed": true
   },
   "outputs": [],
   "source": [
    "def generateData():\n",
    "    \"\"\"\n",
    "    Generates training data. The input data is simply a vector of random\n",
    "    numbers with n_classes classes. The target output is the input shifted \n",
    "    by \"echo_steps\" steps to the right.\n",
    "    \n",
    "    Returns:\n",
    "        x: numpy array of shape (batch_size,-1) filled with random values\n",
    "        in the range (n_classes)\n",
    "        \n",
    "        y: numpy array of shape (batch_size, -1), x shifted \"echo_step\" to \n",
    "        the right\n",
    "    \"\"\"\n",
    "\n",
    "    x = np.array(np.random.choice(n_classes, total_series_length))\n",
    "    y = np.roll(x, echo_step)\n",
    "    y[0:echo_step] = 0\n",
    "\n",
    "    x = x.reshape((batch_size, -1))\n",
    "    y = y.reshape((batch_size, -1))\n",
    "\n",
    "    return(x, y)"
   ]
  },
  {
   "cell_type": "markdown",
   "metadata": {},
   "source": [
    "## Network architecture and forward pass\n",
    "\n",
    "When using TensorFlow's RNN API we no longer need to define the weight matrices and bias vectors manually. Also, the code of the forward pass can be simplified.\n",
    "\n",
    "To match the RNN function requirements, the input data needs to be reshaped into a list of \"truncated_backprop_steps\" tensors of shape (batch_size, input_size). In our case, the input size is simply 1."
   ]
  },
  {
   "cell_type": "code",
   "execution_count": 4,
   "metadata": {
    "collapsed": true
   },
   "outputs": [],
   "source": [
    "X_placeholder = tf.placeholder(tf.float32, shape=[batch_size, truncated_backprop_steps])\n",
    "y_placeholder = tf.placeholder(tf.int32, shape=[batch_size, truncated_backprop_steps])\n",
    "init_state = tf.placeholder(tf.float32, [batch_size, state_size])\n",
    "\n",
    "input_series = tf.split(X_placeholder, truncated_backprop_steps,1)\n",
    "label_series = tf.unstack(y_placeholder, axis=1)"
   ]
  },
  {
   "cell_type": "code",
   "execution_count": 5,
   "metadata": {
    "collapsed": false
   },
   "outputs": [],
   "source": [
    "# Forward pass\n",
    "cell = tf.contrib.rnn.BasicRNNCell(state_size)\n",
    "#init_state = cell.zero_state(batch_size, tf.float32)\n",
    "\n",
    "\n",
    "# Create a recurrent neural network specified by \"cell\"\n",
    "# Returns a list of all previous RNN states and the final state\n",
    "#outputs, final_state = tf.contrib.rnn.static_rnn(cell, input_series, initial_state=init_state)\n",
    "\n",
    "outputs, final_state = tf.contrib.rnn.static_rnn(cell, input_series, initial_state=init_state)"
   ]
  },
  {
   "cell_type": "markdown",
   "metadata": {},
   "source": [
    "## Network output and loss function\n",
    "\n",
    "The predictions of the RNN and the loss are computed in the same way as before."
   ]
  },
  {
   "cell_type": "code",
   "execution_count": 6,
   "metadata": {
    "collapsed": false
   },
   "outputs": [],
   "source": [
    "V = tf.Variable(np.random.randn(state_size, n_classes), dtype=tf.float32)\n",
    "c = tf.Variable(np.zeros((1,n_classes)), dtype=tf.float32)\n",
    "\n",
    "logits = [tf.matmul(state,V)+c for state in outputs]\n",
    "predictions = [tf.nn.softmax(l) for l in logits]\n",
    "\n",
    "# Compute the loss\n",
    "loss = [tf.nn.sparse_softmax_cross_entropy_with_logits(labels=label, logits=logit)\n",
    "       for label, logit in zip(label_series, logits)]\n",
    "total_loss = tf.reduce_mean(loss)\n",
    "\n",
    "optimizer = tf.train.AdamOptimizer(learning_rate=eta).minimize(total_loss)"
   ]
  },
  {
   "cell_type": "markdown",
   "metadata": {},
   "source": [
    "## Training"
   ]
  },
  {
   "cell_type": "code",
   "execution_count": 11,
   "metadata": {
    "collapsed": false
   },
   "outputs": [
    {
     "name": "stdout",
     "output_type": "stream",
     "text": [
      "\n",
      "Epoch:  0\n",
      "Step:  0 Loss:  0.711067\n",
      "Step:  100 Loss:  0.0949727\n",
      "Step:  200 Loss:  0.0138363\n",
      "Step:  300 Loss:  0.00692545\n",
      "Step:  400 Loss:  0.00413122\n",
      "Step:  500 Loss:  0.00266146\n",
      "Step:  600 Loss:  0.00209259\n",
      "\n",
      "Epoch:  1\n",
      "Step:  0 Loss:  0.148281\n",
      "Step:  100 Loss:  0.0015575\n",
      "Step:  200 Loss:  0.00115439\n",
      "Step:  300 Loss:  0.000907257\n",
      "Step:  400 Loss:  0.000790404\n",
      "Step:  500 Loss:  0.000703788\n",
      "Step:  600 Loss:  0.000647477\n",
      "\n",
      "Epoch:  2\n",
      "Step:  0 Loss:  0.15916\n",
      "Step:  100 Loss:  0.000651348\n",
      "Step:  200 Loss:  0.00049819\n",
      "Step:  300 Loss:  0.000406811\n",
      "Step:  400 Loss:  0.000335912\n",
      "Step:  500 Loss:  0.000310198\n",
      "Step:  600 Loss:  0.000309212\n",
      "\n",
      "Epoch:  3\n",
      "Step:  0 Loss:  0.355616\n",
      "Step:  100 Loss:  0.000638183\n",
      "Step:  200 Loss:  0.000458277\n",
      "Step:  300 Loss:  0.000348613\n",
      "Step:  400 Loss:  0.000287809\n",
      "Step:  500 Loss:  0.00023942\n",
      "Step:  600 Loss:  0.000265481\n",
      "\n",
      "Epoch:  4\n",
      "Step:  0 Loss:  0.329823\n",
      "Step:  100 Loss:  0.000347359\n",
      "Step:  200 Loss:  0.000237625\n",
      "Step:  300 Loss:  0.000203585\n",
      "Step:  400 Loss:  0.000161839\n",
      "Step:  500 Loss:  0.000149204\n",
      "Step:  600 Loss:  0.000151672\n",
      "\n",
      "Epoch:  5\n",
      "Step:  0 Loss:  0.381259\n",
      "Step:  100 Loss:  0.000184782\n",
      "Step:  200 Loss:  0.000153227\n",
      "Step:  300 Loss:  0.000157368\n",
      "Step:  400 Loss:  0.000109754\n",
      "Step:  500 Loss:  9.8598e-05\n",
      "Step:  600 Loss:  9.79321e-05\n",
      "\n",
      "Epoch:  6\n",
      "Step:  0 Loss:  0.274324\n",
      "Step:  100 Loss:  0.000178765\n",
      "Step:  200 Loss:  0.000153672\n",
      "Step:  300 Loss:  8.53289e-05\n",
      "Step:  400 Loss:  6.99025e-05\n",
      "Step:  500 Loss:  0.000101669\n",
      "Step:  600 Loss:  8.54885e-05\n",
      "\n",
      "Epoch:  7\n",
      "Step:  0 Loss:  0.951925\n",
      "Step:  100 Loss:  0.000122017\n",
      "Step:  200 Loss:  9.48901e-05\n",
      "Step:  300 Loss:  0.000111333\n",
      "Step:  400 Loss:  7.43905e-05\n",
      "Step:  500 Loss:  7.3638e-05\n",
      "Step:  600 Loss:  6.61407e-05\n",
      "\n",
      "Epoch:  8\n",
      "Step:  0 Loss:  0.398056\n",
      "Step:  100 Loss:  8.81412e-05\n",
      "Step:  200 Loss:  6.48306e-05\n",
      "Step:  300 Loss:  6.72291e-05\n",
      "Step:  400 Loss:  6.07718e-05\n",
      "Step:  500 Loss:  5.51965e-05\n",
      "Step:  600 Loss:  5.65413e-05\n",
      "\n",
      "Epoch:  9\n",
      "Step:  0 Loss:  0.639858\n",
      "Step:  100 Loss:  0.000148166\n",
      "Step:  200 Loss:  9.78289e-05\n",
      "Step:  300 Loss:  9.96941e-05\n",
      "Step:  400 Loss:  6.7832e-05\n",
      "Step:  500 Loss:  7.19136e-05\n",
      "Step:  600 Loss:  5.90226e-05\n",
      "\n",
      "Epoch:  10\n",
      "Step:  0 Loss:  0.380373\n",
      "Step:  100 Loss:  0.00019431\n",
      "Step:  200 Loss:  8.89261e-05\n",
      "Step:  300 Loss:  8.26564e-05\n",
      "Step:  400 Loss:  6.5021e-05\n",
      "Step:  500 Loss:  7.16789e-05\n",
      "Step:  600 Loss:  6.09316e-05\n",
      "\n",
      "Epoch:  11\n",
      "Step:  0 Loss:  0.323545\n",
      "Step:  100 Loss:  8.07038e-05\n",
      "Step:  200 Loss:  7.88235e-05\n",
      "Step:  300 Loss:  7.17566e-05\n",
      "Step:  400 Loss:  5.77692e-05\n",
      "Step:  500 Loss:  5.15997e-05\n",
      "Step:  600 Loss:  4.73479e-05\n",
      "\n",
      "Epoch:  12\n",
      "Step:  0 Loss:  0.419769\n",
      "Step:  100 Loss:  0.000110821\n",
      "Step:  200 Loss:  7.60523e-05\n",
      "Step:  300 Loss:  5.54021e-05\n",
      "Step:  400 Loss:  5.1623e-05\n",
      "Step:  500 Loss:  3.82889e-05\n",
      "Step:  600 Loss:  3.78818e-05\n",
      "\n",
      "Epoch:  13\n",
      "Step:  0 Loss:  0.304042\n",
      "Step:  100 Loss:  4.99785e-05\n",
      "Step:  200 Loss:  4.41201e-05\n",
      "Step:  300 Loss:  4.41171e-05\n",
      "Step:  400 Loss:  4.31316e-05\n",
      "Step:  500 Loss:  3.74084e-05\n",
      "Step:  600 Loss:  3.5498e-05\n",
      "\n",
      "Epoch:  14\n",
      "Step:  0 Loss:  0.260677\n",
      "Step:  100 Loss:  0.000106678\n",
      "Step:  200 Loss:  6.19171e-05\n",
      "Step:  300 Loss:  3.7293e-05\n",
      "Step:  400 Loss:  4.554e-05\n",
      "Step:  500 Loss:  3.45532e-05\n",
      "Step:  600 Loss:  3.64256e-05\n",
      "\n",
      "Epoch:  15\n",
      "Step:  0 Loss:  0.573882\n",
      "Step:  100 Loss:  4.09097e-05\n",
      "Step:  200 Loss:  3.50306e-05\n",
      "Step:  300 Loss:  3.55949e-05\n",
      "Step:  400 Loss:  3.44459e-05\n",
      "Step:  500 Loss:  2.88989e-05\n",
      "Step:  600 Loss:  2.6359e-05\n",
      "\n",
      "Epoch:  16\n",
      "Step:  0 Loss:  0.289911\n",
      "Step:  100 Loss:  4.9996e-05\n",
      "Step:  200 Loss:  4.45716e-05\n",
      "Step:  300 Loss:  2.88878e-05\n",
      "Step:  400 Loss:  3.3791e-05\n",
      "Step:  500 Loss:  3.07013e-05\n",
      "Step:  600 Loss:  2.66595e-05\n",
      "\n",
      "Epoch:  17\n",
      "Step:  0 Loss:  0.124867\n",
      "Step:  100 Loss:  3.086e-05\n",
      "Step:  200 Loss:  2.82661e-05\n",
      "Step:  300 Loss:  2.50572e-05\n",
      "Step:  400 Loss:  2.42403e-05\n",
      "Step:  500 Loss:  2.6065e-05\n",
      "Step:  600 Loss:  2.08088e-05\n",
      "\n",
      "Epoch:  18\n",
      "Step:  0 Loss:  0.626391\n",
      "Step:  100 Loss:  6.30754e-05\n",
      "Step:  200 Loss:  5.1385e-05\n",
      "Step:  300 Loss:  5.54767e-05\n",
      "Step:  400 Loss:  3.6103e-05\n",
      "Step:  500 Loss:  2.82725e-05\n",
      "Step:  600 Loss:  3.01034e-05\n",
      "\n",
      "Epoch:  19\n",
      "Step:  0 Loss:  0.587834\n",
      "Step:  100 Loss:  5.53151e-05\n",
      "Step:  200 Loss:  4.17965e-05\n",
      "Step:  300 Loss:  3.67408e-05\n",
      "Step:  400 Loss:  3.83523e-05\n",
      "Step:  500 Loss:  3.94315e-05\n",
      "Step:  600 Loss:  2.84714e-05\n"
     ]
    }
   ],
   "source": [
    "with tf.Session() as sess:\n",
    "    init = tf.global_variables_initializer()\n",
    "    sess.run(init)\n",
    "    \n",
    "    training_losses = []\n",
    "    \n",
    "    for epoch in range(n_epochs):\n",
    "        #training_losses = []\n",
    "        print(\"\")\n",
    "        print(\"Epoch: \", epoch)\n",
    "        \n",
    "        X_data, y_data = generateData()\n",
    "        _current_state = np.zeros((batch_size, state_size))\n",
    "        \n",
    "        for batch in range(n_batches):\n",
    "            \n",
    "            start_idx = batch*truncated_backprop_steps\n",
    "            end_idx = start_idx+truncated_backprop_steps\n",
    "            \n",
    "            batch_x = X_data[:, start_idx:end_idx]\n",
    "            batch_y = y_data[:, start_idx:end_idx]\n",
    "\n",
    "            _total_loss, _optimizer, _current_state = sess.run(\n",
    "                [total_loss, optimizer, final_state],\n",
    "                feed_dict={\n",
    "                    X_placeholder: batch_x,\n",
    "                    y_placeholder:batch_y,\n",
    "                    init_state:_current_state})\n",
    "            \n",
    "            training_losses.append(_total_loss)\n",
    "            \n",
    "            if batch%100 == 0:\n",
    "                print(\"Step: \", batch, \"Loss: \", _total_loss)"
   ]
  },
  {
   "cell_type": "code",
   "execution_count": 12,
   "metadata": {
    "collapsed": false
   },
   "outputs": [
    {
     "data": {
      "image/png": "[encoded data removed]",
      "text/plain": [
       "<matplotlib.figure.Figure at 0x7feac5971ef0>"
      ]
     },
     "metadata": {},
     "output_type": "display_data"
    }
   ],
   "source": [
    "plt.figure(figsize=(10,8));\n",
    "plt.plot(training_losses);\n",
    "plt.xlabel('Number of training iterations');\n",
    "plt.ylabel('Error');"
   ]
  },
  {
   "cell_type": "code",
   "execution_count": null,
   "metadata": {
    "collapsed": true
   },
   "outputs": [],
   "source": []
  },
  {
   "cell_type": "code",
   "execution_count": null,
   "metadata": {
    "collapsed": true
   },
   "outputs": [],
   "source": []
  },
  {
   "cell_type": "code",
   "execution_count": null,
   "metadata": {
    "collapsed": true
   },
   "outputs": [],
   "source": []
  },
  {
   "cell_type": "code",
   "execution_count": null,
   "metadata": {
    "collapsed": true
   },
   "outputs": [],
   "source": []
  }
 ],
 "metadata": {
  "kernelspec": {
   "display_name": "Python [conda root]",
   "language": "python",
   "name": "conda-root-py"
  },
  "language_info": {
   "codemirror_mode": {
    "name": "ipython",
    "version": 3
   },
   "file_extension": ".py",
   "mimetype": "text/x-python",
   "name": "python",
   "nbconvert_exporter": "python",
   "pygments_lexer": "ipython3",
   "version": "3.5.2"
  }
 },
 "nbformat": 4,
 "nbformat_minor": 2
}
