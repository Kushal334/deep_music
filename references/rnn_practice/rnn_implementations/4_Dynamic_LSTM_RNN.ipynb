{
 "cells": [
  {
   "cell_type": "markdown",
   "metadata": {},
   "source": [
    "# Dynamic LSTM-RNN \n",
    "\n",
    "Tensorflow provides two RNN functions, namely *tf.nn.rnn* and *tf.nn.dynamic_rnn*. \n",
    "\n",
    "*tf.nn.rnn* creates an unrolled graph for a *fixed* RNN length. For example, when calling *tf.nn.rnn* with an input sequence of length 200, a static graph with 200 time steps is created. This has the disadvantage that we cannot feed longer or shorter sequences into the network than originally specified.\n",
    "\n",
    "*tf.nn.dynamic_rnn* solves this problem. It uses a tf.While loop to *dynamically* construct the graph when it's executed. This makes graph creation faster and allows for the input batches to vary in size.\n",
    "\n",
    "One difference between the two functions is the form of the input data. Whereas *tf.nn.rnn* takes a list of tensors as an input (namely a list of  truncated_backprop_steps tensors with shape (batch_size, input_size), *tf.nn.dynamic_rnn* takes as input the whole tensor of shape (batch_size, truncated_backprop_steps, input_size)."
   ]
  },
  {
   "cell_type": "code",
   "execution_count": 1,
   "metadata": {
    "collapsed": false
   },
   "outputs": [],
   "source": [
    "% matplotlib inline\n",
    "import tensorflow as tf\n",
    "import numpy as np\n",
    "import matplotlib.pyplot as plt\n",
    "import seaborn as sns"
   ]
  },
  {
   "cell_type": "code",
   "execution_count": 2,
   "metadata": {
    "collapsed": false
   },
   "outputs": [],
   "source": [
    "# Global configuration parameters\n",
    "n_epochs = 20\n",
    "total_series_length = 50000\n",
    "truncated_backprop_steps = 15\n",
    "state_size = 4 \n",
    "n_classes = 2\n",
    "echo_step = 3 # Number of steps the input is shifted to the right\n",
    "batch_size = 5\n",
    "eta = 0.01 # Learning rate\n",
    "n_batches = total_series_length// batch_size//truncated_backprop_steps\n",
    "n_hidden = 20"
   ]
  },
  {
   "cell_type": "markdown",
   "metadata": {},
   "source": [
    "## Input data\n",
    "\n",
    "Up to now, our complete training data had the size (5, 10000). Although we will keep these dimensions and also the dimension of the X_placeholder variabe, we will add another dimension to the input when feeding it into the RNN. Before, the batch size was (5,15), i.e. (batch_size, truncated_backprop_steps). Now, for the dynamic rnn the batch size will be (5,15,1)."
   ]
  },
  {
   "cell_type": "code",
   "execution_count": 3,
   "metadata": {
    "collapsed": true
   },
   "outputs": [],
   "source": [
    "def generateData():\n",
    "    \"\"\"\n",
    "    Generates training data. The input data is simply a vector of random\n",
    "    numbers with n_classes classes. The target output is the input shifted \n",
    "    by \"echo_steps\" steps to the right.\n",
    "    \n",
    "    Returns:\n",
    "        x: numpy array of shape (batch_size,-1) filled with random values\n",
    "        in the range (n_classes)\n",
    "        \n",
    "        y: numpy array of shape (batch_size, -1), x shifted \"echo_step\" to \n",
    "        the right\n",
    "    \"\"\"\n",
    "\n",
    "    x = np.array(np.random.choice(n_classes, total_series_length))\n",
    "    y = np.roll(x, echo_step)\n",
    "    y[0:echo_step] = 0\n",
    "\n",
    "    x = x.reshape((batch_size, -1))\n",
    "    y = y.reshape((batch_size, -1))\n",
    "\n",
    "    return(x, y)"
   ]
  },
  {
   "cell_type": "markdown",
   "metadata": {},
   "source": [
    "## Network architecture and forward pass\n",
    "\n",
    "As mentioned before, the shape of the input batches is now (batch_size, truncated_backprop_steps, input_size). Our X_placeholder variable can stay the same but we will insert a dimension of 1 when feeding it into tf.nn.dynamic_rnn. This is done using the function [tf.expand_dims](https://www.tensorflow.org/api_docs/python/tf/expand_dims)"
   ]
  },
  {
   "cell_type": "code",
   "execution_count": 4,
   "metadata": {
    "collapsed": true
   },
   "outputs": [],
   "source": [
    "X_placeholder = tf.placeholder(tf.float32, shape=[batch_size, truncated_backprop_steps])\n",
    "y_placeholder = tf.placeholder(tf.int32, shape=[batch_size, truncated_backprop_steps])\n",
    "\n",
    "cell_state = tf.placeholder(tf.float32, shape=[batch_size, n_hidden])\n",
    "hidden_state = tf.placeholder(tf.float32, shape=[batch_size, n_hidden])\n",
    "init_state = tf.contrib.rnn.LSTMStateTuple(cell_state, hidden_state)"
   ]
  },
  {
   "cell_type": "code",
   "execution_count": 5,
   "metadata": {
    "collapsed": false
   },
   "outputs": [],
   "source": [
    "# Forward pass using LSTM cell\n",
    "# For each initialized LSTM cell we need to specify how many hidden\n",
    "# units the cell should have.\n",
    "lstm_cell = tf.contrib.rnn.LSTMCell(num_units=n_hidden)\n",
    "\n",
    "# Create a recurrent neural network specified by \"cell\", i.e. unroll the\n",
    "# network.\n",
    "# Returns a list of all previous RNN hidden states and the final state.\n",
    "# final_state is an LSTMStateTuple that contains both the final hidden \n",
    "# and the cell state.\n",
    "\n",
    "outputs, final_state = tf.nn.dynamic_rnn(lstm_cell, tf.expand_dims(X_placeholder,-1), initial_state=init_state)"
   ]
  },
  {
   "cell_type": "code",
   "execution_count": null,
   "metadata": {
    "collapsed": false
   },
   "outputs": [],
   "source": []
  },
  {
   "cell_type": "code",
   "execution_count": 6,
   "metadata": {
    "collapsed": false
   },
   "outputs": [],
   "source": [
    "# Reshape the outputs and targets such that the logits can be computed \n",
    "# using a single matrix multiplication\n",
    "temp = tf.reshape(outputs, [-1, n_hidden])\n",
    "y_temp = tf.reshape(y_placeholder, [-1])\n",
    "\n",
    "# The output of the network is a one-hot encoded vector of predictions.\n",
    "# When also transforming the target labels into a one-hot encoding (as done\n",
    "# below), we have to change the loss computation into \n",
    "# \"tf.nn.softmax_cross_entropy_with_logits\"\n",
    "#y_temp_one_hot = tf.one_hot(y_temp, n_classes)"
   ]
  },
  {
   "cell_type": "code",
   "execution_count": 7,
   "metadata": {
    "collapsed": false
   },
   "outputs": [],
   "source": [
    "V = tf.Variable(tf.random_normal([n_hidden, n_classes]))\n",
    "c = tf.Variable(tf.random_normal([n_classes]))\n",
    "\n",
    "l = tf.matmul(temp,V)+c"
   ]
  },
  {
   "cell_type": "markdown",
   "metadata": {},
   "source": [
    "## Network output and loss function\n",
    "\n",
    "The predictions of the RNN and the loss are computed in the same way as before."
   ]
  },
  {
   "cell_type": "code",
   "execution_count": 8,
   "metadata": {
    "collapsed": false
   },
   "outputs": [],
   "source": [
    "# loss = tf.reduce_mean(tf.nn.softmax_cross_entropy_with_logits(labels=y_temp_one_hot,\n",
    "#                                                              logits=l))\n",
    "\n",
    "loss = tf.reduce_mean(tf.nn.sparse_softmax_cross_entropy_with_logits(labels=y_temp,\n",
    "                                                             logits=l))\n",
    "optimizer = tf.train.AdamOptimizer(learning_rate=eta).minimize(loss)"
   ]
  },
  {
   "cell_type": "markdown",
   "metadata": {},
   "source": [
    "## Training"
   ]
  },
  {
   "cell_type": "code",
   "execution_count": 10,
   "metadata": {
    "collapsed": false
   },
   "outputs": [
    {
     "name": "stdout",
     "output_type": "stream",
     "text": [
      "\n",
      "Epoch:  0\n",
      "Step:  0 Loss:  0.734319\n",
      "Step:  100 Loss:  0.0914148\n",
      "Step:  200 Loss:  0.000334222\n",
      "Step:  300 Loss:  0.000183651\n",
      "Step:  400 Loss:  0.000118243\n",
      "Step:  500 Loss:  0.000106659\n",
      "Step:  600 Loss:  7.44321e-05\n",
      "\n",
      "Epoch:  1\n",
      "Step:  0 Loss:  0.308869\n",
      "Step:  100 Loss:  0.000389217\n",
      "Step:  200 Loss:  0.00014425\n",
      "Step:  300 Loss:  9.41939e-05\n",
      "Step:  400 Loss:  6.26288e-05\n",
      "Step:  500 Loss:  5.40214e-05\n",
      "Step:  600 Loss:  4.35064e-05\n",
      "\n",
      "Epoch:  2\n",
      "Step:  0 Loss:  0.223063\n",
      "Step:  100 Loss:  4.84339e-05\n",
      "Step:  200 Loss:  3.68055e-05\n",
      "Step:  300 Loss:  2.83165e-05\n",
      "Step:  400 Loss:  2.80624e-05\n",
      "Step:  500 Loss:  2.06578e-05\n",
      "Step:  600 Loss:  2.12888e-05\n",
      "\n",
      "Epoch:  3\n",
      "Step:  0 Loss:  0.201721\n",
      "Step:  100 Loss:  4.39607e-05\n",
      "Step:  200 Loss:  2.04381e-05\n",
      "Step:  300 Loss:  1.52999e-05\n",
      "Step:  400 Loss:  1.45798e-05\n",
      "Step:  500 Loss:  1.0174e-05\n",
      "Step:  600 Loss:  1.02805e-05\n",
      "\n",
      "Epoch:  4\n",
      "Step:  0 Loss:  0.163586\n",
      "Step:  100 Loss:  1.88124e-05\n",
      "Step:  200 Loss:  1.19907e-05\n",
      "Step:  300 Loss:  1.1169e-05\n",
      "Step:  400 Loss:  8.5353e-06\n",
      "Step:  500 Loss:  7.88841e-06\n",
      "Step:  600 Loss:  7.07304e-06\n",
      "\n",
      "Epoch:  5\n",
      "Step:  0 Loss:  0.172417\n",
      "Step:  100 Loss:  1.83333e-05\n",
      "Step:  200 Loss:  1.6922e-05\n",
      "Step:  300 Loss:  1.10938e-05\n",
      "Step:  400 Loss:  5.27854e-06\n",
      "Step:  500 Loss:  4.19136e-06\n",
      "Step:  600 Loss:  4.50285e-06\n",
      "\n",
      "Epoch:  6\n",
      "Step:  0 Loss:  0.372115\n",
      "Step:  100 Loss:  0.000239871\n",
      "Step:  200 Loss:  6.83186e-05\n",
      "Step:  300 Loss:  5.25148e-05\n",
      "Step:  400 Loss:  3.63578e-05\n",
      "Step:  500 Loss:  2.28318e-05\n",
      "Step:  600 Loss:  2.35232e-05\n",
      "\n",
      "Epoch:  7\n",
      "Step:  0 Loss:  0.494427\n",
      "Step:  100 Loss:  4.62394e-05\n",
      "Step:  200 Loss:  2.43112e-05\n",
      "Step:  300 Loss:  2.10359e-05\n",
      "Step:  400 Loss:  2.4035e-05\n",
      "Step:  500 Loss:  1.70941e-05\n",
      "Step:  600 Loss:  1.07685e-05\n",
      "\n",
      "Epoch:  8\n",
      "Step:  0 Loss:  0.132549\n",
      "Step:  100 Loss:  1.53601e-05\n",
      "Step:  200 Loss:  1.04442e-05\n",
      "Step:  300 Loss:  7.31938e-06\n",
      "Step:  400 Loss:  7.77077e-06\n",
      "Step:  500 Loss:  6.72176e-06\n",
      "Step:  600 Loss:  5.27061e-06\n",
      "\n",
      "Epoch:  9\n",
      "Step:  0 Loss:  0.289041\n",
      "Step:  100 Loss:  5.34363e-05\n",
      "Step:  200 Loss:  1.68192e-05\n",
      "Step:  300 Loss:  1.24484e-05\n",
      "Step:  400 Loss:  7.31463e-06\n",
      "Step:  500 Loss:  6.326e-06\n",
      "Step:  600 Loss:  6.96973e-06\n",
      "\n",
      "Epoch:  10\n",
      "Step:  0 Loss:  0.27479\n",
      "Step:  100 Loss:  2.5646e-05\n",
      "Step:  200 Loss:  1.81796e-05\n",
      "Step:  300 Loss:  1.00118e-05\n",
      "Step:  400 Loss:  7.79614e-06\n",
      "Step:  500 Loss:  8.16493e-06\n",
      "Step:  600 Loss:  5.66797e-06\n",
      "\n",
      "Epoch:  11\n",
      "Step:  0 Loss:  0.197834\n",
      "Step:  100 Loss:  2.73703e-06\n",
      "Step:  200 Loss:  3.46976e-06\n",
      "Step:  300 Loss:  2.74816e-06\n",
      "Step:  400 Loss:  2.58445e-06\n",
      "Step:  500 Loss:  2.20139e-06\n",
      "Step:  600 Loss:  1.79449e-06\n",
      "\n",
      "Epoch:  12\n",
      "Step:  0 Loss:  0.524067\n",
      "Step:  100 Loss:  0.000326504\n",
      "Step:  200 Loss:  0.00012606\n",
      "Step:  300 Loss:  8.56858e-05\n",
      "Step:  400 Loss:  5.67323e-05\n",
      "Step:  500 Loss:  5.27178e-05\n",
      "Step:  600 Loss:  4.41958e-05\n",
      "\n",
      "Epoch:  13\n",
      "Step:  0 Loss:  0.366869\n",
      "Step:  100 Loss:  9.07576e-05\n",
      "Step:  200 Loss:  6.28024e-05\n",
      "Step:  300 Loss:  3.75218e-05\n",
      "Step:  400 Loss:  2.50349e-05\n",
      "Step:  500 Loss:  2.78813e-05\n",
      "Step:  600 Loss:  2.43881e-05\n",
      "\n",
      "Epoch:  14\n",
      "Step:  0 Loss:  0.150147\n",
      "Step:  100 Loss:  3.25022e-05\n",
      "Step:  200 Loss:  2.53462e-05\n",
      "Step:  300 Loss:  2.5346e-05\n",
      "Step:  400 Loss:  1.69719e-05\n",
      "Step:  500 Loss:  1.60071e-05\n",
      "Step:  600 Loss:  1.27202e-05\n",
      "\n",
      "Epoch:  15\n",
      "Step:  0 Loss:  0.229223\n",
      "Step:  100 Loss:  2.15169e-05\n",
      "Step:  200 Loss:  1.30713e-05\n",
      "Step:  300 Loss:  1.06221e-05\n",
      "Step:  400 Loss:  7.24627e-06\n",
      "Step:  500 Loss:  5.66955e-06\n",
      "Step:  600 Loss:  5.08304e-06\n",
      "\n",
      "Epoch:  16\n",
      "Step:  0 Loss:  0.359433\n",
      "Step:  100 Loss:  2.94548e-05\n",
      "Step:  200 Loss:  1.5333e-05\n",
      "Step:  300 Loss:  1.19922e-05\n",
      "Step:  400 Loss:  1.11038e-05\n",
      "Step:  500 Loss:  1.04218e-05\n",
      "Step:  600 Loss:  7.15564e-06\n",
      "\n",
      "Epoch:  17\n",
      "Step:  0 Loss:  0.385592\n",
      "Step:  100 Loss:  1.00118e-05\n",
      "Step:  200 Loss:  1.38592e-05\n",
      "Step:  300 Loss:  8.72753e-06\n",
      "Step:  400 Loss:  4.99403e-06\n",
      "Step:  500 Loss:  7.68811e-06\n",
      "Step:  600 Loss:  5.33734e-06\n",
      "\n",
      "Epoch:  18\n",
      "Step:  0 Loss:  0.42781\n",
      "Step:  100 Loss:  2.05218e-05\n",
      "Step:  200 Loss:  1.27375e-05\n",
      "Step:  300 Loss:  6.55803e-06\n",
      "Step:  400 Loss:  5.8555e-06\n",
      "Step:  500 Loss:  5.11325e-06\n",
      "Step:  600 Loss:  5.69497e-06\n",
      "\n",
      "Epoch:  19\n",
      "Step:  0 Loss:  0.340004\n",
      "Step:  100 Loss:  1.66645e-05\n",
      "Step:  200 Loss:  8.73866e-06\n",
      "Step:  300 Loss:  5.45178e-06\n",
      "Step:  400 Loss:  3.2679e-06\n",
      "Step:  500 Loss:  2.50179e-06\n",
      "Step:  600 Loss:  2.51292e-06\n"
     ]
    }
   ],
   "source": [
    "with tf.Session() as sess:\n",
    "    init = tf.global_variables_initializer()\n",
    "    sess.run(init)\n",
    "    \n",
    "    training_losses = []\n",
    "    \n",
    "    for epoch in range(n_epochs):\n",
    "        print(\"\")\n",
    "        print(\"Epoch: \", epoch)\n",
    "        \n",
    "        X_data, y_data = generateData()\n",
    "        _current_cell_state = np.zeros((batch_size, n_hidden))\n",
    "        _current_hidden_state = np.zeros((batch_size, n_hidden))\n",
    "        \n",
    "        for batch in range(n_batches):\n",
    "        \n",
    "            start_idx = batch*truncated_backprop_steps\n",
    "            end_idx = start_idx+truncated_backprop_steps\n",
    "            \n",
    "            batch_x = X_data[:, start_idx:end_idx]\n",
    "            batch_y = y_data[:, start_idx:end_idx]\n",
    "\n",
    "            _total_loss, _optimizer, _final_state = sess.run(\n",
    "                [loss, optimizer, final_state],\n",
    "                feed_dict={\n",
    "                    X_placeholder: batch_x,\n",
    "                    y_placeholder:batch_y,\n",
    "                    cell_state: _current_cell_state,\n",
    "                    hidden_state: _current_hidden_state}\n",
    "                )\n",
    "            \n",
    "            _current_cell_state, _current_hidden_state = _final_state\n",
    "            training_losses.append(_total_loss)\n",
    "            \n",
    "            if batch%100 == 0:\n",
    "                print(\"Step: \", batch, \"Loss: \", _total_loss)"
   ]
  },
  {
   "cell_type": "code",
   "execution_count": 11,
   "metadata": {
    "collapsed": false
   },
   "outputs": [
    {
     "data": {
      "image/png": "[encoded data removed]",
      "text/plain": [
       "<matplotlib.figure.Figure at 0x7efbb4739a58>"
      ]
     },
     "metadata": {},
     "output_type": "display_data"
    }
   ],
   "source": [
    "plt.figure(figsize=(10,8));\n",
    "plt.plot(training_losses);\n",
    "plt.xlabel('Number of training iterations');\n",
    "plt.ylabel('Error');"
   ]
  },
  {
   "cell_type": "code",
   "execution_count": null,
   "metadata": {
    "collapsed": true
   },
   "outputs": [],
   "source": []
  }
 ],
 "metadata": {
  "kernelspec": {
   "display_name": "Python [conda root]",
   "language": "python",
   "name": "conda-root-py"
  },
  "language_info": {
   "codemirror_mode": {
    "name": "ipython",
    "version": 3
   },
   "file_extension": ".py",
   "mimetype": "text/x-python",
   "name": "python",
   "nbconvert_exporter": "python",
   "pygments_lexer": "ipython3",
   "version": "3.5.2"
  }
 },
 "nbformat": 4,
 "nbformat_minor": 2
}
