{
 "cells": [
  {
   "cell_type": "markdown",
   "metadata": {},
   "source": [
    "# Dynamic multilayer LSTM-RNN \n",
    "\n",
    "To increase the power of our network we can add several layers of LSTM cells using the *MultiRNNCell* function, resulting in a *deep* recurrent neural network. Further, we will add dropout."
   ]
  },
  {
   "cell_type": "code",
   "execution_count": 1,
   "metadata": {
    "collapsed": false
   },
   "outputs": [],
   "source": [
    "% matplotlib inline\n",
    "import tensorflow as tf\n",
    "import numpy as np\n",
    "import matplotlib.pyplot as plt\n",
    "import seaborn as sns"
   ]
  },
  {
   "cell_type": "code",
   "execution_count": 2,
   "metadata": {
    "collapsed": false
   },
   "outputs": [],
   "source": [
    "# Global configuration parameters\n",
    "n_epochs = 20\n",
    "total_series_length = 50000\n",
    "truncated_backprop_steps = 15\n",
    "echo_step = 3 # number of steps the input is shifted to the right\n",
    "batch_size = 5\n",
    "eta = 0.001 # learning rate\n",
    "n_batches = total_series_length// batch_size//truncated_backprop_steps\n",
    "\n",
    "# Network parameters\n",
    "n_hidden = 10 # number of hidden units in each LSTM layer\n",
    "n_layers = 2 \n",
    "inp_drop = 1 # dropout input keep probability\n",
    "out_drop = 1 # dropout output keep probability\n",
    "n_classes = 2"
   ]
  },
  {
   "cell_type": "markdown",
   "metadata": {},
   "source": [
    "## Input data\n",
    "\n",
    "Up to now, our complete training data had the size (5, 10000). Although we will keep these dimensions and also the dimension of the X_placeholder variabe, we will add another dimension to the input when feeding it into the RNN. Before, the batch size was (5,15), i.e. (batch_size, truncated_backprop_steps). Now, for the dynamic rnn the batch size will be (5,15,1)."
   ]
  },
  {
   "cell_type": "code",
   "execution_count": 3,
   "metadata": {
    "collapsed": true
   },
   "outputs": [],
   "source": [
    "def generateData():\n",
    "    \"\"\"\n",
    "    Generates training data. The input data is simply a vector of random\n",
    "    numbers with n_classes classes. The target output is the input shifted \n",
    "    by \"echo_steps\" steps to the right.\n",
    "    \n",
    "    Returns:\n",
    "        x: numpy array of shape (batch_size,-1) filled with random values\n",
    "        in the range (n_classes)\n",
    "        \n",
    "        y: numpy array of shape (batch_size, -1), x shifted \"echo_step\" to \n",
    "        the right\n",
    "    \"\"\"\n",
    "\n",
    "    x = np.array(np.random.choice(n_classes, total_series_length))\n",
    "    y = np.roll(x, echo_step)\n",
    "    y[0:echo_step] = 0\n",
    "\n",
    "    x = x.reshape((batch_size, -1))\n",
    "    y = y.reshape((batch_size, -1))\n",
    "\n",
    "    return(x, y)"
   ]
  },
  {
   "cell_type": "markdown",
   "metadata": {},
   "source": [
    "## Network architecture and forward pass\n",
    "\n",
    "As mentioned before, the shape of the input batches is now (batch_size, truncated_backprop_steps, input_size). Our X_placeholder variable can stay the same but we will insert a dimension of 1 when feeding it into tf.nn.dynamic_rnn. This is done using the function [tf.expand_dims](https://www.tensorflow.org/api_docs/python/tf/expand_dims)\n",
    "\n",
    "To create multiple layers we call the MultiRNNCell function that takes a list of RNN cells as an input and wraps them into a single cell. \n",
    "To further use dropout with MultiRNNCell we wrap the base LSTM cell with dropout. This ensures that dropout is part of each cell passed into the MultiRNNCell function."
   ]
  },
  {
   "cell_type": "code",
   "execution_count": 9,
   "metadata": {
    "collapsed": false
   },
   "outputs": [],
   "source": [
    "X_placeholder = tf.placeholder(tf.float32, shape=[batch_size, truncated_backprop_steps])\n",
    "y_placeholder = tf.placeholder(tf.int32, shape=[batch_size, truncated_backprop_steps])\n",
    "\n",
    "# Since we are using several hidden layers, we would have to define a cell \n",
    "# state and hidden state for every layer. Therefore, we save the state of \n",
    "# the whole network in a tensor. For every layer and every sample in the \n",
    "# batch we will have a cell state and a hidden state of size n_hidden\n",
    "init_state = tf.placeholder(tf.float32, [n_layers, 2, batch_size, n_hidden])\n",
    "\n",
    "# Since the input to the MultiRNN cell must be a tuple of LSTM tuples, we\n",
    "# unpack the state tensor.\n",
    "# First, we unstack the tensor into one 3D tensor per layer \n",
    "state_per_layer_list = tf.unstack(init_state, axis=0)\n",
    "\n",
    "# Then, we create an LSTM tuple for each layer and put all of the LSTM tuples\n",
    "# into a tuple\n",
    "rnn_tuple_state = tuple(\n",
    "    [tf.contrib.rnn.LSTMStateTuple(state_per_layer_list[idx][0], state_per_layer_list[idx][1])\n",
    "     for idx in range(n_layers)]\n",
    ")"
   ]
  },
  {
   "cell_type": "code",
   "execution_count": null,
   "metadata": {
    "collapsed": false
   },
   "outputs": [],
   "source": []
  },
  {
   "cell_type": "code",
   "execution_count": 5,
   "metadata": {
    "collapsed": false
   },
   "outputs": [],
   "source": [
    "# For each initialized LSTM cell we need to specify how many hidden\n",
    "# units the cell should have.\n",
    "cell = tf.contrib.rnn.LSTMCell(num_units=n_hidden)\n",
    "\n",
    "# Add dropout\n",
    "cell = tf.contrib.rnn.DropoutWrapper(cell, \n",
    "                                     input_keep_prob=inp_drop, \n",
    "                                     output_keep_prob=out_drop)\n",
    "\n",
    "# Create multiple layers using the MultiRNNCell function\n",
    "cell = tf.contrib.rnn.MultiRNNCell([cell]*n_layers)\n",
    "\n",
    "# Create a zero-filled state tensor\n",
    "#init_state = cell.zero_state(batch_size, tf.float32)\n",
    "\n",
    "# Create a recurrent neural network specified by \"cell\", i.e. unroll the\n",
    "# network.\n",
    "# Returns a list of all previous RNN hidden states and the final states.\n",
    "# final_state is now contains three LSTMStateTuple that contain both the \n",
    "# final hidden and the cell state of the respective layer.\n",
    "\n",
    "outputs, final_state = tf.nn.dynamic_rnn(cell, tf.expand_dims(X_placeholder,-1), initial_state=rnn_tuple_state)\n",
    "\n",
    "# Reshape the outputs and targets such that the logits can be computed \n",
    "# using a single matrix multiplication\n",
    "temp = tf.reshape(outputs, [-1, n_hidden])\n",
    "y_temp = tf.reshape(y_placeholder, [-1])\n",
    "\n",
    "# The output of the network is a one-hot encoded vector of predictions.\n",
    "# When also transforming the target labels into a one-hot encoding (as done\n",
    "# below), we have to change the loss computation into \n",
    "# \"tf.nn.softmax_cross_entropy_with_logits\"\n",
    "#y_temp_one_hot = tf.one_hot(y_temp, n_classes)\n",
    "\n",
    "V = tf.Variable(tf.random_normal([n_hidden, n_classes]))\n",
    "c = tf.Variable(tf.random_normal([n_classes]))\n",
    "\n",
    "logits = tf.matmul(temp,V)+c"
   ]
  },
  {
   "cell_type": "code",
   "execution_count": null,
   "metadata": {
    "collapsed": false
   },
   "outputs": [],
   "source": []
  },
  {
   "cell_type": "markdown",
   "metadata": {},
   "source": [
    "## Network output and loss function\n",
    "\n",
    "The predictions of the RNN and the loss are computed in the same way as before."
   ]
  },
  {
   "cell_type": "code",
   "execution_count": 6,
   "metadata": {
    "collapsed": false
   },
   "outputs": [],
   "source": [
    "# loss = tf.reduce_mean(tf.nn.softmax_cross_entropy_with_logits(labels=y_temp_one_hot,\n",
    "#                                                              logits=l))\n",
    "\n",
    "loss = tf.reduce_mean(tf.nn.sparse_softmax_cross_entropy_with_logits(labels=y_temp,\n",
    "                                                             logits=logits))\n",
    "optimizer = tf.train.AdamOptimizer(learning_rate=eta).minimize(loss)"
   ]
  },
  {
   "cell_type": "markdown",
   "metadata": {},
   "source": [
    "## Training"
   ]
  },
  {
   "cell_type": "code",
   "execution_count": 7,
   "metadata": {
    "collapsed": false
   },
   "outputs": [
    {
     "name": "stdout",
     "output_type": "stream",
     "text": [
      "\n",
      "Epoch:  0\n",
      "Step:  0 Loss:  0.689573\n",
      "Step:  100 Loss:  0.668396\n",
      "Step:  200 Loss:  0.568883\n",
      "Step:  300 Loss:  0.500575\n",
      "Step:  400 Loss:  0.434712\n",
      "Step:  500 Loss:  0.476389\n",
      "Step:  600 Loss:  0.13591\n",
      "\n",
      "Epoch:  1\n",
      "Step:  0 Loss:  0.583608\n",
      "Step:  100 Loss:  0.0959407\n",
      "Step:  200 Loss:  0.0188441\n",
      "Step:  300 Loss:  0.0151491\n",
      "Step:  400 Loss:  0.00912536\n",
      "Step:  500 Loss:  0.00844134\n",
      "Step:  600 Loss:  0.00598813\n",
      "\n",
      "Epoch:  2\n",
      "Step:  0 Loss:  0.398901\n",
      "Step:  100 Loss:  0.00490044\n",
      "Step:  200 Loss:  0.0029903\n",
      "Step:  300 Loss:  0.00295215\n",
      "Step:  400 Loss:  0.00179693\n",
      "Step:  500 Loss:  0.00205465\n",
      "Step:  600 Loss:  0.00157947\n",
      "\n",
      "Epoch:  3\n",
      "Step:  0 Loss:  0.450208\n",
      "Step:  100 Loss:  0.0014779\n",
      "Step:  200 Loss:  0.00123453\n",
      "Step:  300 Loss:  0.00108328\n",
      "Step:  400 Loss:  0.00108951\n",
      "Step:  500 Loss:  0.000942172\n",
      "Step:  600 Loss:  0.000953409\n",
      "\n",
      "Epoch:  4\n",
      "Step:  0 Loss:  0.269758\n",
      "Step:  100 Loss:  0.000723037\n",
      "Step:  200 Loss:  0.00077895\n",
      "Step:  300 Loss:  0.000550912\n",
      "Step:  400 Loss:  0.000545713\n",
      "Step:  500 Loss:  0.000600805\n",
      "Step:  600 Loss:  0.000545511\n",
      "\n",
      "Epoch:  5\n",
      "Step:  0 Loss:  0.158962\n",
      "Step:  100 Loss:  0.00044606\n",
      "Step:  200 Loss:  0.000377006\n",
      "Step:  300 Loss:  0.000356041\n",
      "Step:  400 Loss:  0.000303232\n",
      "Step:  500 Loss:  0.000379601\n",
      "Step:  600 Loss:  0.000285785\n",
      "\n",
      "Epoch:  6\n",
      "Step:  0 Loss:  0.148983\n",
      "Step:  100 Loss:  0.00026073\n",
      "Step:  200 Loss:  0.000268386\n",
      "Step:  300 Loss:  0.000222462\n",
      "Step:  400 Loss:  0.0001813\n",
      "Step:  500 Loss:  0.000201889\n",
      "Step:  600 Loss:  0.000228775\n",
      "\n",
      "Epoch:  7\n",
      "Step:  0 Loss:  0.25628\n",
      "Step:  100 Loss:  0.000174289\n",
      "Step:  200 Loss:  0.000193179\n",
      "Step:  300 Loss:  0.00017828\n",
      "Step:  400 Loss:  0.000145314\n",
      "Step:  500 Loss:  0.00013796\n",
      "Step:  600 Loss:  0.000133769\n",
      "\n",
      "Epoch:  8\n",
      "Step:  0 Loss:  0.166355\n",
      "Step:  100 Loss:  0.000112777\n",
      "Step:  200 Loss:  0.000128338\n",
      "Step:  300 Loss:  0.000103803\n",
      "Step:  400 Loss:  9.12455e-05\n",
      "Step:  500 Loss:  9.72991e-05\n",
      "Step:  600 Loss:  9.29866e-05\n",
      "\n",
      "Epoch:  9\n",
      "Step:  0 Loss:  0.134407\n",
      "Step:  100 Loss:  8.56385e-05\n",
      "Step:  200 Loss:  7.80211e-05\n",
      "Step:  300 Loss:  8.46823e-05\n",
      "Step:  400 Loss:  5.35097e-05\n",
      "Step:  500 Loss:  5.92538e-05\n",
      "Step:  600 Loss:  6.90457e-05\n",
      "\n",
      "Epoch:  10\n",
      "Step:  0 Loss:  0.140861\n",
      "Step:  100 Loss:  9.07916e-05\n",
      "Step:  200 Loss:  6.31975e-05\n",
      "Step:  300 Loss:  7.55463e-05\n",
      "Step:  400 Loss:  5.61722e-05\n",
      "Step:  500 Loss:  5.88396e-05\n",
      "Step:  600 Loss:  4.57258e-05\n",
      "\n",
      "Epoch:  11\n",
      "Step:  0 Loss:  0.157605\n",
      "Step:  100 Loss:  4.99369e-05\n",
      "Step:  200 Loss:  4.92138e-05\n",
      "Step:  300 Loss:  4.00401e-05\n",
      "Step:  400 Loss:  3.21044e-05\n",
      "Step:  500 Loss:  4.18025e-05\n",
      "Step:  600 Loss:  3.48175e-05\n",
      "\n",
      "Epoch:  12\n",
      "Step:  0 Loss:  0.164609\n",
      "Step:  100 Loss:  3.68853e-05\n",
      "Step:  200 Loss:  3.11031e-05\n",
      "Step:  300 Loss:  2.8126e-05\n",
      "Step:  400 Loss:  2.99508e-05\n",
      "Step:  500 Loss:  3.04769e-05\n",
      "Step:  600 Loss:  2.76589e-05\n",
      "\n",
      "Epoch:  13\n",
      "Step:  0 Loss:  0.160948\n",
      "Step:  100 Loss:  2.34852e-05\n",
      "Step:  200 Loss:  2.54689e-05\n",
      "Step:  300 Loss:  2.48601e-05\n",
      "Step:  400 Loss:  2.41385e-05\n",
      "Step:  500 Loss:  1.60071e-05\n",
      "Step:  600 Loss:  2.25111e-05\n",
      "\n",
      "Epoch:  14\n",
      "Step:  0 Loss:  0.237445\n",
      "Step:  100 Loss:  4.04249e-05\n",
      "Step:  200 Loss:  3.69258e-05\n",
      "Step:  300 Loss:  3.24213e-05\n",
      "Step:  400 Loss:  3.05461e-05\n",
      "Step:  500 Loss:  2.80592e-05\n",
      "Step:  600 Loss:  1.80114e-05\n",
      "\n",
      "Epoch:  15\n",
      "Step:  0 Loss:  0.147566\n",
      "Step:  100 Loss:  2.44404e-05\n",
      "Step:  200 Loss:  1.78461e-05\n",
      "Step:  300 Loss:  1.8798e-05\n",
      "Step:  400 Loss:  1.66254e-05\n",
      "Step:  500 Loss:  1.56256e-05\n",
      "Step:  600 Loss:  1.44209e-05\n",
      "\n",
      "Epoch:  16\n",
      "Step:  0 Loss:  0.148131\n",
      "Step:  100 Loss:  1.64426e-05\n",
      "Step:  200 Loss:  1.53507e-05\n",
      "Step:  300 Loss:  1.47499e-05\n",
      "Step:  400 Loss:  1.18938e-05\n",
      "Step:  500 Loss:  1.29078e-05\n",
      "Step:  600 Loss:  1.18254e-05\n",
      "\n",
      "Epoch:  17\n",
      "Step:  0 Loss:  0.16032\n",
      "Step:  100 Loss:  1.17729e-05\n",
      "Step:  200 Loss:  1.19605e-05\n",
      "Step:  300 Loss:  1.11515e-05\n",
      "Step:  400 Loss:  9.54777e-06\n",
      "Step:  500 Loss:  1.08765e-05\n",
      "Step:  600 Loss:  9.86727e-06\n",
      "\n",
      "Epoch:  18\n",
      "Step:  0 Loss:  0.156439\n",
      "Step:  100 Loss:  1.20876e-05\n",
      "Step:  200 Loss:  1.03536e-05\n",
      "Step:  300 Loss:  1.08081e-05\n",
      "Step:  400 Loss:  9.62407e-06\n",
      "Step:  500 Loss:  7.97425e-06\n",
      "Step:  600 Loss:  7.96312e-06\n",
      "\n",
      "Epoch:  19\n",
      "Step:  0 Loss:  0.119097\n",
      "Step:  100 Loss:  1.11372e-05\n",
      "Step:  200 Loss:  8.89767e-06\n",
      "Step:  300 Loss:  9.63042e-06\n",
      "Step:  400 Loss:  1.11435e-05\n",
      "Step:  500 Loss:  9.95943e-06\n",
      "Step:  600 Loss:  8.46538e-06\n"
     ]
    }
   ],
   "source": [
    "with tf.Session() as sess:\n",
    "    init = tf.global_variables_initializer()\n",
    "    sess.run(init)\n",
    "    \n",
    "    training_losses = []\n",
    "    \n",
    "    for epoch in range(n_epochs):\n",
    "        print(\"\")\n",
    "        print(\"Epoch: \", epoch)\n",
    "        \n",
    "        X_data, y_data = generateData()\n",
    "        _current_state = np.zeros((n_layers, 2, batch_size, n_hidden))\n",
    "        \n",
    "        for batch in range(n_batches):\n",
    "        \n",
    "            start_idx = batch*truncated_backprop_steps\n",
    "            end_idx = start_idx+truncated_backprop_steps\n",
    "            \n",
    "            batch_x = X_data[:, start_idx:end_idx]\n",
    "            batch_y = y_data[:, start_idx:end_idx]\n",
    "\n",
    "            _total_loss, _optimizer, _current_state = sess.run(\n",
    "                [loss, optimizer, final_state],\n",
    "                feed_dict={\n",
    "                    X_placeholder: batch_x,\n",
    "                    y_placeholder:batch_y,\n",
    "                    init_state: _current_state})\n",
    "            \n",
    "            training_losses.append(_total_loss)\n",
    "            \n",
    "            if batch%100 == 0:\n",
    "                print(\"Step: \", batch, \"Loss: \", _total_loss)"
   ]
  },
  {
   "cell_type": "code",
   "execution_count": 8,
   "metadata": {
    "collapsed": false
   },
   "outputs": [
    {
     "data": {
      "image/png": "[encoded data removed]",
      "text/plain": [
       "<matplotlib.figure.Figure at 0x7f0a4d6b3780>"
      ]
     },
     "metadata": {},
     "output_type": "display_data"
    }
   ],
   "source": [
    "plt.figure(figsize=(10,8));\n",
    "plt.plot(training_losses);\n",
    "plt.xlabel('Number of training iterations');\n",
    "plt.ylabel('Error');"
   ]
  },
  {
   "cell_type": "code",
   "execution_count": null,
   "metadata": {
    "collapsed": true
   },
   "outputs": [],
   "source": []
  },
  {
   "cell_type": "code",
   "execution_count": null,
   "metadata": {
    "collapsed": true
   },
   "outputs": [],
   "source": []
  },
  {
   "cell_type": "code",
   "execution_count": null,
   "metadata": {
    "collapsed": true
   },
   "outputs": [],
   "source": []
  }
 ],
 "metadata": {
  "kernelspec": {
   "display_name": "Python [conda root]",
   "language": "python",
   "name": "conda-root-py"
  },
  "language_info": {
   "codemirror_mode": {
    "name": "ipython",
    "version": 3
   },
   "file_extension": ".py",
   "mimetype": "text/x-python",
   "name": "python",
   "nbconvert_exporter": "python",
   "pygments_lexer": "ipython3",
   "version": "3.5.2"
  }
 },
 "nbformat": 4,
 "nbformat_minor": 2
}
