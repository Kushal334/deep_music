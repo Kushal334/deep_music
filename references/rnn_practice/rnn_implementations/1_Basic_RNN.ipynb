{
 "cells": [
  {
   "cell_type": "markdown",
   "metadata": {},
   "source": [
    "# Basic RNN in TensorFlow\n",
    "\n",
    "This notebook explains how to build a simple recurrent neural network (RNN) in TensorFlow. It does *not* use the TensorFlow RNN API but performs all computations manually (which helps to understand what is happening in an RNN). The code is based on an existing [tutorial](https://medium.com/@erikhallstrm/hello-world-rnn-83cd7105b767)."
   ]
  },
  {
   "cell_type": "code",
   "execution_count": 1,
   "metadata": {
    "collapsed": true
   },
   "outputs": [],
   "source": [
    "% matplotlib inline\n",
    "import tensorflow as tf\n",
    "from tensorflow.contrib import rnn\n",
    "import matplotlib.pyplot as plt\n",
    "import seaborn as sns\n",
    "import numpy as np"
   ]
  },
  {
   "cell_type": "markdown",
   "metadata": {},
   "source": [
    "## Explanation: truncated Backpropagation\n",
    "\n",
    "A recurrent neural network is designed in a way such that the output at a certain time step depends on arbitrarily distant inputs. In other words: when building an RNN in TensorFlow, the graph would have to be as wide as the input sequence.\n",
    "Unfortunately, this makes backpropagation computation both expensive and ineffective because gradients propagated over many time steps tend to either vanish (most of the time) or explode.\n",
    "\n",
    "A common solution to this problem is to create an \"unrolled\" version of the recurrent network that contains a fixed number (*truncated_backprop_steps*) of RNN inputs and outputs. In other words: backpropagation is \"truncated\" such that errors are only backpropagated for a fixed number of steps. A higher number of steps enables capturing long-term dependencies but is also more expensive (both regarding memory and computation).\n",
    "\n",
    "The model is then trained on this finite approximation of the recurrent network. Accordingly, at each time step the network is fed with inputs of length *truncated_backprop_steps*. The backward pass is performed after each input block. A short explanation is given on TensorFlow's [website](https://www.tensorflow.org/tutorials/recurrent#truncated-backpropagation)."
   ]
  },
  {
   "cell_type": "code",
   "execution_count": 2,
   "metadata": {
    "collapsed": true
   },
   "outputs": [],
   "source": [
    "# Global configuration parameters\n",
    "n_epochs = 20\n",
    "total_series_length = 50000\n",
    "truncated_backprop_steps = 15\n",
    "state_size = 4 \n",
    "n_classes = 2\n",
    "echo_step = 3 # Number of steps the input is shifted to the right\n",
    "batch_size = 5\n",
    "n_batches = total_series_length//batch_size//truncated_backprop_steps\n",
    "\n",
    "eta = 0.01 # Learning rate"
   ]
  },
  {
   "cell_type": "markdown",
   "metadata": {},
   "source": [
    "## Input data\n",
    "The input data of our recurrent network will be a vector of random numbers in the range (n_classes). For example, when setting \"n_classes = 2\", the input vector will contain random binary digits, e.g. [0,1,0,0,0,1,1,0,1,...].\n",
    "\n",
    "The target output is simply the input vector, shifted \"echo_steps\" to the right."
   ]
  },
  {
   "cell_type": "code",
   "execution_count": 3,
   "metadata": {
    "collapsed": false
   },
   "outputs": [],
   "source": [
    "def generateData():\n",
    "    \"\"\"\n",
    "    Generates training data. The input data is simply a vector of random\n",
    "    numbers with n_classes classes. The target output is the input shifted \n",
    "    by \"echo_steps\" steps to the right.\n",
    "    \n",
    "    Returns:\n",
    "        x: numpy array of shape (batch_size,-1) filled with random values\n",
    "        in the range (n_classes)\n",
    "        \n",
    "        y: numpy array of shape (batch_size, -1), x shifted \"echo_step\" to \n",
    "        the right\n",
    "    \"\"\"\n",
    "\n",
    "    x = np.array(np.random.choice(n_classes, total_series_length))\n",
    "    y = np.roll(x, echo_step)\n",
    "    y[0:echo_step] = 0\n",
    "\n",
    "    x = x.reshape((batch_size, -1))\n",
    "    y = y.reshape((batch_size, -1))\n",
    "\n",
    "    return(x, y)"
   ]
  },
  {
   "cell_type": "markdown",
   "metadata": {},
   "source": [
    "## Network architecture\n",
    "\n",
    "The basic architecture of a recurrent network looks as follows ([source](http://www.deeplearningbook.org/)). \n",
    "\n",
    "![alt text](basic_rnn.png \"Title\")\n",
    "\n",
    "\n",
    "As visibile in the figure, the state $h^{(t)}$  of the network depends both on the input $x^{(t)}$ and the previous state $h^{(t-1)}$.\n",
    "It is computed as follows:\n",
    "\n",
    "$$ h^{(t)} = \\sigma(U x^{(t)} + W h^{(t-1)} + b) $$\n",
    "\n",
    "with $\\sigma$ beign the $\\tanh$ in our implementation.\n",
    "\n",
    "\n",
    "The output is computed as: \n",
    "\n",
    "$$ o^{(t)} = V h^{(t)} + c $$\n",
    "$$ \\hat{y}^{(t)} = \\text{softmax}(o^{(t)}) $$\n"
   ]
  },
  {
   "cell_type": "code",
   "execution_count": 4,
   "metadata": {
    "collapsed": false
   },
   "outputs": [],
   "source": [
    "# Create placeholders for the input, target output and state of the network\n",
    "X_placeholder = tf.placeholder(dtype=tf.float32, shape=[batch_size, truncated_backprop_steps])\n",
    "y_placeholder = tf.placeholder(dtype=tf.int32, shape=[batch_size, truncated_backprop_steps])\n",
    "init_state = tf.placeholder(tf.float32, [batch_size, state_size])\n",
    "\n",
    "# Create variables for weights and biases. To save computation, the two\n",
    "# weight matrices U and W are concatenated such that we have to perform only\n",
    "# one matrix multiplication when calculating the state of the recurrent network.\n",
    "U_W_concat = tf.Variable(np.random.randn(state_size+1, state_size), dtype=tf.float32)\n",
    "b = tf.Variable(np.zeros((1,state_size)), dtype=tf.float32)\n",
    "\n",
    "V = tf.Variable(np.random.randn(state_size, n_classes), dtype=tf.float32)\n",
    "c = tf.Variable(np.zeros((1,n_classes)), dtype=tf.float32)\n",
    "\n",
    "\n",
    "# We split the batch data into adjacent time steps by unpacking the columns of\n",
    "# the input batch into a list. This causes the network to be trained \n",
    "# simultaenously on multiple (namely \"batch_size\") parts of the input time \n",
    "# series. We account for this by setting the state of the network (\"init_state\")\n",
    "# to have \"batch_size\" rows.\n",
    "\n",
    "input_series = tf.unstack(X_placeholder, axis=1)\n",
    "labels_series = tf.unstack(y_placeholder, axis=1)"
   ]
  },
  {
   "cell_type": "markdown",
   "metadata": {
    "collapsed": false
   },
   "source": [
    "## Forward pass\n",
    "\n",
    "To perform the forward pass we initialize the state of the RNN to init_state and then process all input examples one after the other.\n",
    "As mentioned before, the input $x^{(t)}$ and state $h^{(t-1)}$ of the network are concatenated such that we have to perform only a single matrix multiplication.\n",
    "\n",
    "All states are saved in a list."
   ]
  },
  {
   "cell_type": "code",
   "execution_count": 5,
   "metadata": {
    "collapsed": false
   },
   "outputs": [],
   "source": [
    "# Forward pass\n",
    "current_state = init_state\n",
    "state_series = []\n",
    "\n",
    "for i in input_series:\n",
    "    inp = tf.reshape(i, [batch_size, 1])\n",
    "    inp_state_concat = tf.concat([inp, current_state],1)\n",
    "    new_state = tf.tanh(tf.matmul(inp_state_concat,U_W_concat)+b)\n",
    "    \n",
    "    state_series.append(new_state)\n",
    "    current_state = new_state"
   ]
  },
  {
   "cell_type": "markdown",
   "metadata": {
    "collapsed": false
   },
   "source": [
    "## Network output and loss function\n",
    "\n",
    "To compute the output at each time step, we apply the softmax function as explained before.\n",
    "The loss is given by computing the cross entropy of the logits. The loss is minimized using the Adam Algorithm."
   ]
  },
  {
   "cell_type": "code",
   "execution_count": 6,
   "metadata": {
    "collapsed": false
   },
   "outputs": [],
   "source": [
    "# Softmax output layer, compute output for each state\n",
    "logits = [tf.matmul(state, V)+c for state in state_series]\n",
    "predictions = [tf.nn.softmax(logit) for logit in logits]\n",
    "\n",
    "# Compute loss\n",
    "losses = [tf.nn.sparse_softmax_cross_entropy_with_logits(labels=label, logits=logit) for label, logit in zip(labels_series, logits)]\n",
    "total_loss = tf.reduce_mean(losses)\n",
    "\n",
    "# Training step\n",
    "train_step = tf.train.AdamOptimizer(learning_rate=eta).minimize(total_loss)"
   ]
  },
  {
   "cell_type": "markdown",
   "metadata": {},
   "source": [
    "## Training\n",
    "\n",
    "We train the network for the given number of epoch. For each epoch, we generate a new set of training examples that is fed into the network in batches."
   ]
  },
  {
   "cell_type": "code",
   "execution_count": 7,
   "metadata": {
    "collapsed": false
   },
   "outputs": [
    {
     "name": "stdout",
     "output_type": "stream",
     "text": [
      "\n",
      "Epoch:  0\n",
      "Step:  0 Loss: 0.775403\n",
      "Step:  100 Loss: 0.130827\n",
      "Step:  200 Loss: 0.0295\n",
      "Step:  300 Loss: 0.0125537\n",
      "Step:  400 Loss: 0.00882366\n",
      "Step:  500 Loss: 0.00527875\n",
      "Step:  600 Loss: 0.0054818\n",
      "\n",
      "Epoch:  1\n",
      "Step:  0 Loss: 0.153616\n",
      "Step:  100 Loss: 0.0033395\n",
      "Step:  200 Loss: 0.00354613\n",
      "Step:  300 Loss: 0.00210196\n",
      "Step:  400 Loss: 0.00210092\n",
      "Step:  500 Loss: 0.00115995\n",
      "Step:  600 Loss: 0.00131154\n",
      "\n",
      "Epoch:  2\n",
      "Step:  0 Loss: 0.21616\n",
      "Step:  100 Loss: 0.00135301\n",
      "Step:  200 Loss: 0.00101389\n",
      "Step:  300 Loss: 0.000772036\n",
      "Step:  400 Loss: 0.000830224\n",
      "Step:  500 Loss: 0.000725011\n",
      "Step:  600 Loss: 0.000577322\n",
      "\n",
      "Epoch:  3\n",
      "Step:  0 Loss: 0.315493\n",
      "Step:  100 Loss: 0.000832329\n",
      "Step:  200 Loss: 0.000758668\n",
      "Step:  300 Loss: 0.000685938\n",
      "Step:  400 Loss: 0.000516648\n",
      "Step:  500 Loss: 0.000458007\n",
      "Step:  600 Loss: 0.000375309\n",
      "\n",
      "Epoch:  4\n",
      "Step:  0 Loss: 0.177963\n",
      "Step:  100 Loss: 0.000522719\n",
      "Step:  200 Loss: 0.000381885\n",
      "Step:  300 Loss: 0.00033544\n",
      "Step:  400 Loss: 0.000308462\n",
      "Step:  500 Loss: 0.000246425\n",
      "Step:  600 Loss: 0.000191729\n",
      "\n",
      "Epoch:  5\n",
      "Step:  0 Loss: 0.413593\n",
      "Step:  100 Loss: 0.000333091\n",
      "Step:  200 Loss: 0.000269367\n",
      "Step:  300 Loss: 0.000235807\n",
      "Step:  400 Loss: 0.00023526\n",
      "Step:  500 Loss: 0.000198197\n",
      "Step:  600 Loss: 0.000182555\n",
      "\n",
      "Epoch:  6\n",
      "Step:  0 Loss: 0.348928\n",
      "Step:  100 Loss: 0.0001761\n",
      "Step:  200 Loss: 0.000162755\n",
      "Step:  300 Loss: 0.000145334\n",
      "Step:  400 Loss: 0.000107815\n",
      "Step:  500 Loss: 0.000109677\n",
      "Step:  600 Loss: 0.000109545\n",
      "\n",
      "Epoch:  7\n",
      "Step:  0 Loss: 0.366428\n",
      "Step:  100 Loss: 0.000106257\n",
      "Step:  200 Loss: 0.000136835\n",
      "Step:  300 Loss: 0.000110373\n",
      "Step:  400 Loss: 8.48775e-05\n",
      "Step:  500 Loss: 8.97872e-05\n",
      "Step:  600 Loss: 6.91271e-05\n",
      "\n",
      "Epoch:  8\n",
      "Step:  0 Loss: 0.343937\n",
      "Step:  100 Loss: 0.000258858\n",
      "Step:  200 Loss: 0.00017309\n",
      "Step:  300 Loss: 0.000108849\n",
      "Step:  400 Loss: 8.227e-05\n",
      "Step:  500 Loss: 0.000110336\n",
      "Step:  600 Loss: 9.59805e-05\n",
      "\n",
      "Epoch:  9\n",
      "Step:  0 Loss: 0.546332\n",
      "Step:  100 Loss: 0.00014476\n",
      "Step:  200 Loss: 0.00010674\n",
      "Step:  300 Loss: 8.63384e-05\n",
      "Step:  400 Loss: 8.334e-05\n",
      "Step:  500 Loss: 5.32624e-05\n",
      "Step:  600 Loss: 5.88029e-05\n",
      "\n",
      "Epoch:  10\n",
      "Step:  0 Loss: 0.372316\n",
      "Step:  100 Loss: 7.80807e-05\n",
      "Step:  200 Loss: 8.92726e-05\n",
      "Step:  300 Loss: 5.79001e-05\n",
      "Step:  400 Loss: 4.92945e-05\n",
      "Step:  500 Loss: 4.5094e-05\n",
      "Step:  600 Loss: 5.52938e-05\n",
      "\n",
      "Epoch:  11\n",
      "Step:  0 Loss: 0.504266\n",
      "Step:  100 Loss: 9.98867e-05\n",
      "Step:  200 Loss: 8.18875e-05\n",
      "Step:  300 Loss: 6.01526e-05\n",
      "Step:  400 Loss: 6.93262e-05\n",
      "Step:  500 Loss: 5.50942e-05\n",
      "Step:  600 Loss: 5.00703e-05\n",
      "\n",
      "Epoch:  12\n",
      "Step:  0 Loss: 0.31824\n",
      "Step:  100 Loss: 8.14211e-05\n",
      "Step:  200 Loss: 6.21266e-05\n",
      "Step:  300 Loss: 5.23299e-05\n",
      "Step:  400 Loss: 4.71827e-05\n",
      "Step:  500 Loss: 3.73398e-05\n",
      "Step:  600 Loss: 4.21651e-05\n",
      "\n",
      "Epoch:  13\n",
      "Step:  0 Loss: 0.149302\n",
      "Step:  100 Loss: 4.64906e-05\n",
      "Step:  200 Loss: 3.93585e-05\n",
      "Step:  300 Loss: 3.11113e-05\n",
      "Step:  400 Loss: 3.1631e-05\n",
      "Step:  500 Loss: 2.69328e-05\n",
      "Step:  600 Loss: 2.60475e-05\n",
      "\n",
      "Epoch:  14\n",
      "Step:  0 Loss: 0.521599\n",
      "Step:  100 Loss: 6.84458e-05\n",
      "Step:  200 Loss: 5.91914e-05\n",
      "Step:  300 Loss: 4.64783e-05\n",
      "Step:  400 Loss: 5.2459e-05\n",
      "Step:  500 Loss: 3.59189e-05\n",
      "Step:  600 Loss: 3.83697e-05\n",
      "\n",
      "Epoch:  15\n",
      "Step:  0 Loss: 0.242322\n",
      "Step:  100 Loss: 8.72624e-05\n",
      "Step:  200 Loss: 7.22989e-05\n",
      "Step:  300 Loss: 6.82059e-05\n",
      "Step:  400 Loss: 5.81563e-05\n",
      "Step:  500 Loss: 4.33549e-05\n",
      "Step:  600 Loss: 3.80686e-05\n",
      "\n",
      "Epoch:  16\n",
      "Step:  0 Loss: 0.401347\n",
      "Step:  100 Loss: 4.73311e-05\n",
      "Step:  200 Loss: 4.68319e-05\n",
      "Step:  300 Loss: 4.1713e-05\n",
      "Step:  400 Loss: 3.53068e-05\n",
      "Step:  500 Loss: 3.82262e-05\n",
      "Step:  600 Loss: 3.34745e-05\n",
      "\n",
      "Epoch:  17\n",
      "Step:  0 Loss: 0.366329\n",
      "Step:  100 Loss: 5.2476e-05\n",
      "Step:  200 Loss: 4.60881e-05\n",
      "Step:  300 Loss: 3.72802e-05\n",
      "Step:  400 Loss: 3.27985e-05\n",
      "Step:  500 Loss: 2.79643e-05\n",
      "Step:  600 Loss: 2.56835e-05\n",
      "\n",
      "Epoch:  18\n",
      "Step:  0 Loss: 0.30776\n",
      "Step:  100 Loss: 8.76049e-05\n",
      "Step:  200 Loss: 4.05488e-05\n",
      "Step:  300 Loss: 2.76939e-05\n",
      "Step:  400 Loss: 3.74943e-05\n",
      "Step:  500 Loss: 2.34216e-05\n",
      "Step:  600 Loss: 2.65002e-05\n",
      "\n",
      "Epoch:  19\n",
      "Step:  0 Loss: 0.558038\n",
      "Step:  100 Loss: 3.11351e-05\n",
      "Step:  200 Loss: 2.87986e-05\n",
      "Step:  300 Loss: 2.69392e-05\n",
      "Step:  400 Loss: 2.56215e-05\n",
      "Step:  500 Loss: 2.4838e-05\n",
      "Step:  600 Loss: 2.39416e-05\n"
     ]
    }
   ],
   "source": [
    "with tf.Session() as sess:\n",
    "    init = tf.global_variables_initializer()\n",
    "    sess.run(init)\n",
    "    \n",
    "    training_losses = []\n",
    " \n",
    "    for epoch in range(n_epochs):\n",
    "        X_gen, y_gen = generateData()\n",
    "        \n",
    "        # The initial state of the network is set to zero\n",
    "        _current_state = np.zeros((batch_size, state_size))\n",
    "        \n",
    "        print(\"\")\n",
    "        print(\"Epoch: \", epoch)\n",
    "        \n",
    "        for batch_number in range(n_batches):\n",
    "            start_idx = batch_number * truncated_backprop_steps\n",
    "            end_idx = start_idx + truncated_backprop_steps\n",
    "            \n",
    "            batch_x = X_gen[:, start_idx:end_idx]\n",
    "            batch_y = y_gen[:, start_idx:end_idx]\n",
    "            \n",
    "            _total_loss, _train_step, _current_state = sess.run(\n",
    "            [total_loss, train_step, current_state], \n",
    "            feed_dict={\n",
    "                X_placeholder: batch_x,\n",
    "                y_placeholder: batch_y,\n",
    "                init_state: _current_state\n",
    "            })\n",
    "            \n",
    "            training_losses.append(_total_loss)\n",
    "            \n",
    "            if batch_number%100 == 0:\n",
    "                print(\"Step: \", batch_number, \"Loss:\", _total_loss)"
   ]
  },
  {
   "cell_type": "markdown",
   "metadata": {},
   "source": [
    "## Visualize the learning progress"
   ]
  },
  {
   "cell_type": "code",
   "execution_count": 8,
   "metadata": {
    "collapsed": false
   },
   "outputs": [
    {
     "data": {
      "image/png": "[encoded data removed]",
      "text/plain": [
       "<matplotlib.figure.Figure at 0x7f930a2d6080>"
      ]
     },
     "metadata": {},
     "output_type": "display_data"
    }
   ],
   "source": [
    "plt.figure(figsize=(10,8));\n",
    "plt.plot(training_losses);\n",
    "plt.xlabel('Number of training iterations');\n",
    "plt.ylabel('Error');"
   ]
  },
  {
   "cell_type": "code",
   "execution_count": null,
   "metadata": {
    "collapsed": false
   },
   "outputs": [],
   "source": []
  },
  {
   "cell_type": "code",
   "execution_count": null,
   "metadata": {
    "collapsed": false
   },
   "outputs": [],
   "source": []
  },
  {
   "cell_type": "code",
   "execution_count": null,
   "metadata": {
    "collapsed": true
   },
   "outputs": [],
   "source": []
  },
  {
   "cell_type": "code",
   "execution_count": null,
   "metadata": {
    "collapsed": true
   },
   "outputs": [],
   "source": []
  }
 ],
 "metadata": {
  "kernelspec": {
   "display_name": "Python [conda root]",
   "language": "python",
   "name": "conda-root-py"
  },
  "language_info": {
   "codemirror_mode": {
    "name": "ipython",
    "version": 3
   },
   "file_extension": ".py",
   "mimetype": "text/x-python",
   "name": "python",
   "nbconvert_exporter": "python",
   "pygments_lexer": "ipython3",
   "version": "3.5.2"
  }
 },
 "nbformat": 4,
 "nbformat_minor": 2
}
